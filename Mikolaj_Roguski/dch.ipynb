{
 "cells": [
  {
   "cell_type": "code",
   "execution_count": 16,
   "metadata": {
    "collapsed": true,
    "ExecuteTime": {
     "start_time": "2023-05-05T19:45:16.340168Z",
     "end_time": "2023-05-05T19:45:25.113162Z"
    }
   },
   "outputs": [],
   "source": [
    "# data can be dowloaded using get_data in eda.ipynb !!\n",
    "\n",
    "\n",
    "\n",
    "import torch\n",
    "from torch_geometric.data import HeteroData\n",
    "import pandas as pd\n",
    "from torch_geometric.transforms import RandomLinkSplit, NormalizeFeatures, ToUndirected, ToDevice\n",
    "\n",
    "device = torch.device('cuda' if torch.cuda.is_available() else 'cpu')\n",
    "\n",
    "disease = pd.read_table('../data/raw/D-MeshMiner_miner-disease.tsv')\n",
    "\n",
    "disease_old_ids = disease['# MESH_ID'].unique()\n",
    "\n",
    "disease_mapping = pd.DataFrame(data={\n",
    "    'id': pd.RangeIndex(len(disease_old_ids)),\n",
    "    'old_id': disease_old_ids\n",
    "})\n",
    "\n",
    "disease_ids = disease_mapping['id'].to_numpy()\n",
    "\n",
    "edges = pd.read_table('../data/raw/DCh-Miner_miner-disease-chemical.tsv')\n",
    "drug_old_ids = edges['Chemical'].unique()\n",
    "\n",
    "drug_mapping = pd.DataFrame(data={\n",
    "    'id': pd.RangeIndex(len(drug_old_ids)),\n",
    "    'old_id': drug_old_ids\n",
    "})\n",
    "\n",
    "disease_mapped = disease.merge(disease_mapping, left_on='# MESH_ID', right_on='old_id', how='left').loc[:, ['id', 'Definitions']]\n",
    "\n",
    "defs = disease_mapped.set_index('id')['Definitions'].str.findall(r'\\b[A-Z]{2,}\\b').str.join(',')\n",
    "\n",
    "edges_mapped = edges\\\n",
    "                   .merge(disease_mapping, left_on='# Disease(MESH)', right_on='old_id', how='inner')\\\n",
    "                   .merge(drug_mapping, left_on='Chemical', right_on='old_id', how='inner', suffixes=('_disease', '_drug'))\\\n",
    "                   .loc[:, ['id_disease', 'id_drug']].to_numpy()\n",
    "\n",
    "\n",
    "data = HeteroData()\n",
    "data['disease'].node_id = torch.tensor(disease_ids)\n",
    "data['drug'].node_id = torch.tensor(drug_mapping['id'].to_numpy())\n",
    "\n",
    "data['disease'].x = torch.tensor(defs.str.get_dummies(',').to_numpy(), dtype=torch.float)\n",
    "\n",
    "data['disease', 'healedby', 'drug'].edge_index = torch.tensor(edges_mapped.T, dtype=torch.int64)\n",
    "\n",
    "normalize = NormalizeFeatures()\n",
    "\n",
    "undirect = ToUndirected()\n",
    "\n",
    "td = ToDevice(device)\n",
    "\n",
    "transform = RandomLinkSplit(\n",
    "    edge_types=('disease', 'healedby', 'drug'),\n",
    "    rev_edge_types=('drug', 'rev_healedby', 'disease'),\n",
    "    add_negative_train_samples=True,\n",
    "    disjoint_train_ratio=.3)\n",
    "\n",
    "train_data, val_data, test_data = transform(undirect(td(data)))"
   ]
  },
  {
   "cell_type": "code",
   "execution_count": 17,
   "outputs": [
    {
     "data": {
      "text/plain": "(457186, 2)"
     },
     "execution_count": 17,
     "metadata": {},
     "output_type": "execute_result"
    }
   ],
   "source": [
    "edges_mapped.shape"
   ],
   "metadata": {
    "collapsed": false,
    "ExecuteTime": {
     "start_time": "2023-05-05T19:45:25.115848Z",
     "end_time": "2023-05-05T19:45:25.157256Z"
    }
   }
  },
  {
   "cell_type": "code",
   "execution_count": 18,
   "outputs": [
    {
     "data": {
      "text/plain": "224022"
     },
     "execution_count": 18,
     "metadata": {},
     "output_type": "execute_result"
    }
   ],
   "source": [
    "train_data['disease', 'healedby', 'drug'].num_edges"
   ],
   "metadata": {
    "collapsed": false,
    "ExecuteTime": {
     "start_time": "2023-05-05T19:45:25.156788Z",
     "end_time": "2023-05-05T19:45:25.157954Z"
    }
   }
  },
  {
   "cell_type": "code",
   "execution_count": 18,
   "outputs": [],
   "source": [],
   "metadata": {
    "collapsed": false,
    "ExecuteTime": {
     "start_time": "2023-05-05T19:45:25.157543Z",
     "end_time": "2023-05-05T19:45:25.158289Z"
    }
   }
  },
  {
   "cell_type": "code",
   "execution_count": 19,
   "outputs": [
    {
     "data": {
      "text/plain": "tensor([1, 1, 1,  ..., 0, 0, 0], device='cuda:0', dtype=torch.int32)"
     },
     "execution_count": 19,
     "metadata": {},
     "output_type": "execute_result"
    }
   ],
   "source": [
    " train_data['disease', 'healedby', 'drug'].edge_label.type(torch.int)"
   ],
   "metadata": {
    "collapsed": false,
    "ExecuteTime": {
     "start_time": "2023-05-05T19:45:25.158142Z",
     "end_time": "2023-05-05T19:45:25.225905Z"
    }
   }
  },
  {
   "cell_type": "code",
   "execution_count": 20,
   "outputs": [
    {
     "data": {
      "text/plain": "{'disease': 3698, 'drug': 0}"
     },
     "execution_count": 20,
     "metadata": {},
     "output_type": "execute_result"
    }
   ],
   "source": [
    "data.num_features"
   ],
   "metadata": {
    "collapsed": false,
    "ExecuteTime": {
     "start_time": "2023-05-05T19:45:25.197802Z",
     "end_time": "2023-05-05T19:45:25.226611Z"
    }
   }
  },
  {
   "cell_type": "code",
   "execution_count": 21,
   "outputs": [
    {
     "data": {
      "text/plain": "11332"
     },
     "execution_count": 21,
     "metadata": {},
     "output_type": "execute_result"
    }
   ],
   "source": [
    "data['disease'].num_nodes"
   ],
   "metadata": {
    "collapsed": false,
    "ExecuteTime": {
     "start_time": "2023-05-05T19:45:25.198235Z",
     "end_time": "2023-05-05T19:45:25.227248Z"
    }
   }
  },
  {
   "cell_type": "code",
   "execution_count": 22,
   "outputs": [
    {
     "data": {
      "text/plain": "1663"
     },
     "execution_count": 22,
     "metadata": {},
     "output_type": "execute_result"
    }
   ],
   "source": [
    "data['drug'].num_nodes"
   ],
   "metadata": {
    "collapsed": false,
    "ExecuteTime": {
     "start_time": "2023-05-05T19:45:25.201046Z",
     "end_time": "2023-05-05T19:45:25.267962Z"
    }
   }
  },
  {
   "cell_type": "code",
   "execution_count": 27,
   "outputs": [],
   "source": [
    "'''\n",
    "first we make an embedding of the nodes for both diseases and drugs\n",
    "then we calculate features for edges and finally perform binary classfication on them\n",
    "\n",
    "drugs do not have features so we must make an embedding for them\n",
    "\n",
    "and there are many diseases with no features so we also make an embedding\n",
    "\n",
    "'''\n",
    "\n",
    "\n",
    "from torch_geometric.nn import SAGEConv, to_hetero\n",
    "# for embedding\n",
    "class GNN(torch.nn.Module):\n",
    "    def __init__(self, in_channels, hidden_channels, out_channels):\n",
    "        super().__init__()\n",
    "        self.conv1 = SAGEConv(in_channels, hidden_channels)\n",
    "        self.conv2 = SAGEConv(hidden_channels, out_channels)\n",
    "\n",
    "    def forward(self, x, edge_index):\n",
    "        x = self.conv1(x, edge_index)\n",
    "        x = x.relu()\n",
    "        x = torch.nn.functional.dropout(x, .1)\n",
    "        x = self.conv2(x, edge_index)\n",
    "        return x\n",
    "\n",
    "class FinalClassifier(torch.nn.Module):\n",
    "    def forward(self, x_disease, x_drug, edge_label_index):\n",
    "        edge_feat_disease = x_disease[edge_label_index[0]]\n",
    "        edge_feat_drug = x_drug[edge_label_index[1]]\n",
    "        return (edge_feat_disease * edge_feat_drug).sum(dim=-1)\n",
    "\n",
    "\n",
    "\n",
    "class Model(torch.nn.Module):\n",
    "    def __init__(self, in_channels, hidden_channels, out_channels):\n",
    "        super().__init__()\n",
    "        # disease_features have 3698 features\n",
    "        self.disease_linear = torch.nn.Linear(data['disease'].num_features, in_channels)\n",
    "        self.disease_embedding = torch.nn.Embedding(data['disease'].num_nodes, in_channels)\n",
    "        self.drug_embedding = torch.nn.Embedding(data['drug'].num_nodes, in_channels)\n",
    "\n",
    "        # our gnn for graph embeddings\n",
    "        self.gnn = GNN(in_channels, hidden_channels, out_channels)\n",
    "        self.gnn = to_hetero(self.gnn, metadata=data.metadata())\n",
    "        self.classifier = FinalClassifier()\n",
    "    def forward(self, data):\n",
    "        x_dict = {\n",
    "            'disease': self.disease_embedding(data['disease'].node_id) + self.disease_linear(data['disease'].x),\n",
    "            'drug': self.drug_embedding(data['drug'].node_id),\n",
    "        }\n",
    "        x_dict = self.gnn(x_dict, data.edge_index_dict)\n",
    "\n",
    "        pred = self.classifier(\n",
    "            x_dict['disease'],\n",
    "            x_dict['drug'],\n",
    "            data['disease', 'healedby', 'drug'].edge_label_index,\n",
    "        )\n",
    "        return pred"
   ],
   "metadata": {
    "collapsed": false,
    "ExecuteTime": {
     "start_time": "2023-05-05T19:48:19.670839Z",
     "end_time": "2023-05-05T19:48:19.711631Z"
    }
   }
  },
  {
   "cell_type": "code",
   "execution_count": 30,
   "outputs": [
    {
     "name": "stdout",
     "output_type": "stream",
     "text": [
      "Model(\n",
      "  (disease_linear): Linear(in_features=3698, out_features=64, bias=True)\n",
      "  (disease_embedding): Embedding(11332, 64)\n",
      "  (drug_embedding): Embedding(1663, 64)\n",
      "  (gnn): GraphModule(\n",
      "    (conv1): ModuleDict(\n",
      "      (disease__healedby__drug): SAGEConv(64, 128, aggr=mean)\n",
      "      (drug__rev_healedby__disease): SAGEConv(64, 128, aggr=mean)\n",
      "    )\n",
      "    (conv2): ModuleDict(\n",
      "      (disease__healedby__drug): SAGEConv(128, 64, aggr=mean)\n",
      "      (drug__rev_healedby__disease): SAGEConv(128, 64, aggr=mean)\n",
      "    )\n",
      "  )\n",
      "  (classifier): FinalClassifier()\n",
      ")\n"
     ]
    }
   ],
   "source": [
    "model = Model(64, 128, 64)\n",
    "print(model)"
   ],
   "metadata": {
    "collapsed": false,
    "ExecuteTime": {
     "start_time": "2023-05-05T19:48:44.156726Z",
     "end_time": "2023-05-05T19:48:44.197651Z"
    }
   }
  },
  {
   "cell_type": "code",
   "execution_count": 31,
   "outputs": [
    {
     "name": "stdout",
     "output_type": "stream",
     "text": [
      "device cuda\n",
      "epoch: 0, loss: 0.7758535146713257\n",
      "roc on test: 0.6691371176235614\n",
      "epoch: 1, loss: 0.6583035588264465\n",
      "epoch: 2, loss: 0.5722266435623169\n",
      "epoch: 3, loss: 0.5075036883354187\n",
      "epoch: 4, loss: 0.46103599667549133\n",
      "epoch: 5, loss: 0.43058016896247864\n",
      "epoch: 6, loss: 0.4060705602169037\n",
      "epoch: 7, loss: 0.386748343706131\n",
      "epoch: 8, loss: 0.3699135482311249\n",
      "epoch: 9, loss: 0.35859137773513794\n",
      "epoch: 10, loss: 0.3482809066772461\n",
      "roc on test: 0.909456134150225\n",
      "epoch: 11, loss: 0.34332937002182007\n",
      "epoch: 12, loss: 0.33444154262542725\n",
      "epoch: 13, loss: 0.33053556084632874\n",
      "epoch: 14, loss: 0.32051900029182434\n",
      "epoch: 15, loss: 0.3143906891345978\n",
      "epoch: 16, loss: 0.30408746004104614\n",
      "epoch: 17, loss: 0.2971493899822235\n",
      "epoch: 18, loss: 0.2858213782310486\n",
      "epoch: 19, loss: 0.27908119559288025\n",
      "epoch: 20, loss: 0.2744169235229492\n",
      "roc on test: 0.947112755157058\n",
      "epoch: 21, loss: 0.26433414220809937\n",
      "epoch: 22, loss: 0.2609004080295563\n",
      "epoch: 23, loss: 0.25208795070648193\n",
      "epoch: 24, loss: 0.24802617728710175\n",
      "epoch: 25, loss: 0.24319711327552795\n",
      "epoch: 26, loss: 0.23740452527999878\n",
      "epoch: 27, loss: 0.23606595396995544\n",
      "epoch: 28, loss: 0.22975203394889832\n",
      "epoch: 29, loss: 0.22515083849430084\n",
      "epoch: 30, loss: 0.22018055617809296\n",
      "roc on test: 0.9645215366370941\n",
      "epoch: 31, loss: 0.2178732007741928\n",
      "epoch: 32, loss: 0.2125416249036789\n",
      "epoch: 33, loss: 0.21042020618915558\n",
      "epoch: 34, loss: 0.20731417834758759\n",
      "epoch: 35, loss: 0.2049156129360199\n",
      "epoch: 36, loss: 0.20225605368614197\n",
      "epoch: 37, loss: 0.20002469420433044\n",
      "epoch: 38, loss: 0.19733500480651855\n",
      "epoch: 39, loss: 0.19523955881595612\n",
      "epoch: 40, loss: 0.19481410086154938\n",
      "roc on test: 0.9709030337797252\n",
      "epoch: 41, loss: 0.19135339558124542\n",
      "epoch: 42, loss: 0.19000349938869476\n",
      "epoch: 43, loss: 0.18802441656589508\n",
      "epoch: 44, loss: 0.18603207170963287\n",
      "epoch: 45, loss: 0.1848478764295578\n",
      "epoch: 46, loss: 0.18378660082817078\n",
      "epoch: 47, loss: 0.18303413689136505\n",
      "epoch: 48, loss: 0.18116019666194916\n",
      "epoch: 49, loss: 0.17907316982746124\n",
      "epoch: 50, loss: 0.17888003587722778\n",
      "roc on test: 0.9741632087168349\n",
      "epoch: 51, loss: 0.1773507297039032\n",
      "epoch: 52, loss: 0.17612753808498383\n",
      "epoch: 53, loss: 0.17467762529850006\n",
      "epoch: 54, loss: 0.17358243465423584\n",
      "epoch: 55, loss: 0.17248350381851196\n",
      "epoch: 56, loss: 0.17216996848583221\n",
      "epoch: 57, loss: 0.17053508758544922\n",
      "epoch: 58, loss: 0.16970913112163544\n",
      "epoch: 59, loss: 0.1692807972431183\n",
      "epoch: 60, loss: 0.16849517822265625\n",
      "roc on test: 0.9758933451049633\n",
      "epoch: 61, loss: 0.16832596063613892\n",
      "epoch: 62, loss: 0.16634060442447662\n",
      "epoch: 63, loss: 0.1668214052915573\n",
      "epoch: 64, loss: 0.1647929549217224\n",
      "epoch: 65, loss: 0.16452988982200623\n",
      "epoch: 66, loss: 0.16349339485168457\n",
      "epoch: 67, loss: 0.16307319700717926\n",
      "epoch: 68, loss: 0.16281035542488098\n",
      "epoch: 69, loss: 0.1619933545589447\n",
      "epoch: 70, loss: 0.16113753616809845\n",
      "roc on test: 0.976884641078785\n",
      "epoch: 71, loss: 0.16065359115600586\n",
      "epoch: 72, loss: 0.1601795107126236\n",
      "epoch: 73, loss: 0.15977025032043457\n",
      "epoch: 74, loss: 0.16035984456539154\n",
      "epoch: 75, loss: 0.15961013734340668\n",
      "epoch: 76, loss: 0.15830163657665253\n",
      "epoch: 77, loss: 0.15908491611480713\n",
      "epoch: 78, loss: 0.15709500014781952\n",
      "epoch: 79, loss: 0.15664471685886383\n",
      "epoch: 80, loss: 0.15600945055484772\n",
      "roc on test: 0.9774482912427926\n",
      "epoch: 81, loss: 0.15576668083667755\n",
      "epoch: 82, loss: 0.15468353033065796\n",
      "epoch: 83, loss: 0.1542755663394928\n",
      "epoch: 84, loss: 0.15484558045864105\n",
      "epoch: 85, loss: 0.15551277995109558\n",
      "epoch: 86, loss: 0.15464481711387634\n",
      "epoch: 87, loss: 0.1532323658466339\n",
      "epoch: 88, loss: 0.15339159965515137\n",
      "epoch: 89, loss: 0.15257316827774048\n",
      "epoch: 90, loss: 0.1538463830947876\n",
      "roc on test: 0.9781500299702061\n",
      "epoch: 91, loss: 0.15131501853466034\n",
      "epoch: 92, loss: 0.1523568034172058\n",
      "epoch: 93, loss: 0.1508530229330063\n",
      "epoch: 94, loss: 0.1513911485671997\n",
      "epoch: 95, loss: 0.15042193233966827\n",
      "epoch: 96, loss: 0.15015514194965363\n",
      "epoch: 97, loss: 0.14957845211029053\n",
      "epoch: 98, loss: 0.14896482229232788\n",
      "epoch: 99, loss: 0.14902369678020477\n",
      "epoch: 100, loss: 0.14853517711162567\n",
      "roc on test: 0.9785199407747674\n",
      "epoch: 101, loss: 0.14846931397914886\n",
      "epoch: 102, loss: 0.14781597256660461\n",
      "epoch: 103, loss: 0.1479203850030899\n",
      "epoch: 104, loss: 0.1471063643693924\n",
      "epoch: 105, loss: 0.14652372896671295\n",
      "epoch: 106, loss: 0.14651142060756683\n",
      "epoch: 107, loss: 0.14739690721035004\n",
      "epoch: 108, loss: 0.14652101695537567\n",
      "epoch: 109, loss: 0.14632372558116913\n",
      "epoch: 110, loss: 0.14593227207660675\n",
      "roc on test: 0.9786564676314973\n",
      "epoch: 111, loss: 0.14578956365585327\n",
      "epoch: 112, loss: 0.14446911215782166\n",
      "epoch: 113, loss: 0.14680282771587372\n",
      "epoch: 114, loss: 0.14440789818763733\n",
      "epoch: 115, loss: 0.14562901854515076\n",
      "epoch: 116, loss: 0.1448369175195694\n",
      "epoch: 117, loss: 0.14481663703918457\n",
      "epoch: 118, loss: 0.14363589882850647\n",
      "epoch: 119, loss: 0.14463312923908234\n",
      "epoch: 120, loss: 0.14357265830039978\n",
      "roc on test: 0.9784696761145187\n",
      "epoch: 121, loss: 0.14504972100257874\n",
      "epoch: 122, loss: 0.14348767697811127\n",
      "epoch: 123, loss: 0.1438647210597992\n",
      "epoch: 124, loss: 0.14288762211799622\n",
      "epoch: 125, loss: 0.14295735955238342\n",
      "epoch: 126, loss: 0.14196664094924927\n",
      "epoch: 127, loss: 0.14268316328525543\n",
      "epoch: 128, loss: 0.14129890501499176\n",
      "epoch: 129, loss: 0.1423480212688446\n",
      "epoch: 130, loss: 0.1413358598947525\n",
      "roc on test: 0.9785934423553456\n",
      "epoch: 131, loss: 0.14065179228782654\n",
      "epoch: 132, loss: 0.14066950976848602\n",
      "epoch: 133, loss: 0.1403496116399765\n",
      "epoch: 134, loss: 0.1398097425699234\n",
      "epoch: 135, loss: 0.13918881118297577\n",
      "epoch: 136, loss: 0.13962742686271667\n",
      "epoch: 137, loss: 0.13954700529575348\n",
      "epoch: 138, loss: 0.13970410823822021\n",
      "epoch: 139, loss: 0.13890960812568665\n",
      "epoch: 140, loss: 0.13838998973369598\n",
      "roc on test: 0.9789546274811807\n",
      "epoch: 141, loss: 0.13869014382362366\n",
      "epoch: 142, loss: 0.1378387212753296\n",
      "epoch: 143, loss: 0.13782083988189697\n",
      "epoch: 144, loss: 0.13796257972717285\n",
      "epoch: 145, loss: 0.1376076638698578\n",
      "epoch: 146, loss: 0.13731662929058075\n",
      "epoch: 147, loss: 0.1371253877878189\n",
      "epoch: 148, loss: 0.1365460306406021\n",
      "epoch: 149, loss: 0.13646994531154633\n"
     ]
    }
   ],
   "source": [
    "from sklearn.metrics import roc_auc_score\n",
    "\n",
    "# training\n",
    "device = torch.device('cuda' if torch.cuda.is_available() else 'cpu')\n",
    "train_data = train_data.to(device)\n",
    "\n",
    "print(f'device {device}')\n",
    "\n",
    "model = model.to(device)\n",
    "optimizer = torch.optim.Adam(model.parameters(), lr=.001)\n",
    "criterion = torch.nn.CrossEntropyLoss()\n",
    "\n",
    "\n",
    "\n",
    "for epoch in range(150):\n",
    "    model.train()\n",
    "    optimizer.zero_grad()\n",
    "    pred = model.forward(train_data)\n",
    "    loss = torch.nn.functional.binary_cross_entropy_with_logits(pred, train_data['disease', 'healedby', 'drug'].edge_label)\n",
    "    loss.backward()\n",
    "    optimizer.step()\n",
    "    print(f'epoch: {epoch}, loss: {loss}')\n",
    "    if epoch % 10 ==0:\n",
    "        print(f'roc on test: {roc_auc_score(test_data[\"disease\", \"healedby\", \"drug\"].edge_label.cpu().numpy(), model.forward(test_data).detach().cpu().numpy())}')\n"
   ],
   "metadata": {
    "collapsed": false,
    "ExecuteTime": {
     "start_time": "2023-05-05T19:49:55.572928Z",
     "end_time": "2023-05-05T19:49:58.915898Z"
    }
   }
  },
  {
   "cell_type": "code",
   "execution_count": 33,
   "outputs": [
    {
     "data": {
      "text/plain": "0.9789007983573106"
     },
     "execution_count": 33,
     "metadata": {},
     "output_type": "execute_result"
    }
   ],
   "source": [
    "roc_auc_score(test_data['disease', 'healedby', 'drug'].edge_label.cpu(), model.forward(test_data).detach().cpu().numpy())"
   ],
   "metadata": {
    "collapsed": false,
    "ExecuteTime": {
     "start_time": "2023-05-05T19:50:13.621508Z",
     "end_time": "2023-05-05T19:50:13.735507Z"
    }
   }
  }
 ],
 "metadata": {
  "kernelspec": {
   "display_name": "Python 3",
   "language": "python",
   "name": "python3"
  },
  "language_info": {
   "codemirror_mode": {
    "name": "ipython",
    "version": 2
   },
   "file_extension": ".py",
   "mimetype": "text/x-python",
   "name": "python",
   "nbconvert_exporter": "python",
   "pygments_lexer": "ipython2",
   "version": "2.7.6"
  }
 },
 "nbformat": 4,
 "nbformat_minor": 0
}
