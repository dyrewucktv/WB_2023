{
 "cells": [
  {
   "cell_type": "code",
   "execution_count": 3,
   "outputs": [
    {
     "name": "stderr",
     "output_type": "stream",
     "text": [
      "Using existing file DCh-Miner_miner-disease-chemical.tsv.gz\n",
      "Extracting ../data/raw/DCh-Miner_miner-disease-chemical.tsv.gz\n",
      "Using existing file D-MeshMiner_miner-disease.tsv.gz\n",
      "Extracting ../data/raw/D-MeshMiner_miner-disease.tsv.gz\n"
     ]
    }
   ],
   "source": [
    "from torch_geometric.data import download_url, extract_gz\n",
    "import os\n",
    "def get_data():\n",
    "    # oh well its not working right\n",
    "    extract_gz(download_url('http://snap.stanford.edu/biodata/datasets/10004/files/DCh-Miner_miner-disease-chemical.tsv.gz', '../data/raw/'), '../data/')\n",
    "    extract_gz(download_url('http://snap.stanford.edu/biodata/datasets/10003/files/D-MeshMiner_miner-disease.tsv.gz', '../data/raw/'), '../data/')\n",
    "\n",
    "get_data()\n"
   ],
   "metadata": {
    "collapsed": false,
    "ExecuteTime": {
     "start_time": "2023-05-05T19:37:52.856342Z",
     "end_time": "2023-05-05T19:37:52.945929Z"
    }
   }
  },
  {
   "cell_type": "code",
   "execution_count": 1,
   "outputs": [
    {
     "data": {
      "text/plain": "          # MESH_ID                              Name   \n0      MESH:C538288   10p Deletion Syndrome (Partial)  \\\n1      MESH:C535484             13q deletion syndrome   \n2      MESH:C579849               15q24 Microdeletion   \n3      MESH:C579850         16p11.2 Deletion Syndrome   \n4      MESH:C567076  17,20-Lyase Deficiency, Isolated   \n...             ...                               ...   \n11327  MESH:C536729   Zunich neuroectodermal syndrome   \n11328  MESH:C536730                   Zuska's Disease   \n11329  MESH:C565223                     Zygodactyly 1   \n11330  MESH:D015051               Zygomatic Fractures   \n11331  MESH:D020096                       Zygomycosis   \n\n                                             Definitions   \n0                                                    NaN  \\\n1                                                    NaN   \n2                                                    NaN   \n3                                                    NaN   \n4                                                    NaN   \n...                                                  ...   \n11327                                                NaN   \n11328                                                NaN   \n11329                                                NaN   \n11330                           Fractures of the zygoma.   \n11331  Infection in humans and animals caused by fung...   \n\n                                                Synonyms  \n0      Chromosome 10, 10p- Partial|Chromosome 10, mon...  \n1      Chromosome 13q deletion|Chromosome 13q deletio...  \n2      15q24 Deletion|15q24 Microdeletion Syndrome|In...  \n3                                                    NaN  \n4      17-Alpha-Hydroxylase-17,20-Lyase Deficiency, C...  \n...                                                  ...  \n11327                                     CHIME syndrome  \n11328  Lactation and squamous metaplasia of lactifero...  \n11329                                                ZD1  \n11330  Fractures, Zygomatic|Fracture, Zygomatic|Zygom...  \n11331  Entomophthoramycoses|Entomophthoramycosis|Phyc...  \n\n[11332 rows x 4 columns]",
      "text/html": "<div>\n<style scoped>\n    .dataframe tbody tr th:only-of-type {\n        vertical-align: middle;\n    }\n\n    .dataframe tbody tr th {\n        vertical-align: top;\n    }\n\n    .dataframe thead th {\n        text-align: right;\n    }\n</style>\n<table border=\"1\" class=\"dataframe\">\n  <thead>\n    <tr style=\"text-align: right;\">\n      <th></th>\n      <th># MESH_ID</th>\n      <th>Name</th>\n      <th>Definitions</th>\n      <th>Synonyms</th>\n    </tr>\n  </thead>\n  <tbody>\n    <tr>\n      <th>0</th>\n      <td>MESH:C538288</td>\n      <td>10p Deletion Syndrome (Partial)</td>\n      <td>NaN</td>\n      <td>Chromosome 10, 10p- Partial|Chromosome 10, mon...</td>\n    </tr>\n    <tr>\n      <th>1</th>\n      <td>MESH:C535484</td>\n      <td>13q deletion syndrome</td>\n      <td>NaN</td>\n      <td>Chromosome 13q deletion|Chromosome 13q deletio...</td>\n    </tr>\n    <tr>\n      <th>2</th>\n      <td>MESH:C579849</td>\n      <td>15q24 Microdeletion</td>\n      <td>NaN</td>\n      <td>15q24 Deletion|15q24 Microdeletion Syndrome|In...</td>\n    </tr>\n    <tr>\n      <th>3</th>\n      <td>MESH:C579850</td>\n      <td>16p11.2 Deletion Syndrome</td>\n      <td>NaN</td>\n      <td>NaN</td>\n    </tr>\n    <tr>\n      <th>4</th>\n      <td>MESH:C567076</td>\n      <td>17,20-Lyase Deficiency, Isolated</td>\n      <td>NaN</td>\n      <td>17-Alpha-Hydroxylase-17,20-Lyase Deficiency, C...</td>\n    </tr>\n    <tr>\n      <th>...</th>\n      <td>...</td>\n      <td>...</td>\n      <td>...</td>\n      <td>...</td>\n    </tr>\n    <tr>\n      <th>11327</th>\n      <td>MESH:C536729</td>\n      <td>Zunich neuroectodermal syndrome</td>\n      <td>NaN</td>\n      <td>CHIME syndrome</td>\n    </tr>\n    <tr>\n      <th>11328</th>\n      <td>MESH:C536730</td>\n      <td>Zuska's Disease</td>\n      <td>NaN</td>\n      <td>Lactation and squamous metaplasia of lactifero...</td>\n    </tr>\n    <tr>\n      <th>11329</th>\n      <td>MESH:C565223</td>\n      <td>Zygodactyly 1</td>\n      <td>NaN</td>\n      <td>ZD1</td>\n    </tr>\n    <tr>\n      <th>11330</th>\n      <td>MESH:D015051</td>\n      <td>Zygomatic Fractures</td>\n      <td>Fractures of the zygoma.</td>\n      <td>Fractures, Zygomatic|Fracture, Zygomatic|Zygom...</td>\n    </tr>\n    <tr>\n      <th>11331</th>\n      <td>MESH:D020096</td>\n      <td>Zygomycosis</td>\n      <td>Infection in humans and animals caused by fung...</td>\n      <td>Entomophthoramycoses|Entomophthoramycosis|Phyc...</td>\n    </tr>\n  </tbody>\n</table>\n<p>11332 rows × 4 columns</p>\n</div>"
     },
     "execution_count": 1,
     "metadata": {},
     "output_type": "execute_result"
    }
   ],
   "source": [
    "import pandas as pd\n",
    "\n",
    "disease = pd.read_table('../data/D-MeshMiner_miner-disease.tsv')\n",
    "disease"
   ],
   "metadata": {
    "collapsed": false
   }
  },
  {
   "cell_type": "code",
   "execution_count": 23,
   "outputs": [
    {
     "data": {
      "text/plain": "       # Disease(MESH) Chemical\n0         MESH:D005923  DB00564\n1         MESH:D009503  DB01072\n2         MESH:D016115  DB01759\n3         MESH:D018476  DB00451\n4         MESH:C567059  DB00641\n...                ...      ...\n466652    MESH:C565545  DB00482\n466653    MESH:D009164  DB00977\n466654    MESH:D010518  DB04216\n466655    MESH:D002653  DB02701\n466656    MESH:D013119  DB04465\n\n[466657 rows x 2 columns]",
      "text/html": "<div>\n<style scoped>\n    .dataframe tbody tr th:only-of-type {\n        vertical-align: middle;\n    }\n\n    .dataframe tbody tr th {\n        vertical-align: top;\n    }\n\n    .dataframe thead th {\n        text-align: right;\n    }\n</style>\n<table border=\"1\" class=\"dataframe\">\n  <thead>\n    <tr style=\"text-align: right;\">\n      <th></th>\n      <th># Disease(MESH)</th>\n      <th>Chemical</th>\n    </tr>\n  </thead>\n  <tbody>\n    <tr>\n      <th>0</th>\n      <td>MESH:D005923</td>\n      <td>DB00564</td>\n    </tr>\n    <tr>\n      <th>1</th>\n      <td>MESH:D009503</td>\n      <td>DB01072</td>\n    </tr>\n    <tr>\n      <th>2</th>\n      <td>MESH:D016115</td>\n      <td>DB01759</td>\n    </tr>\n    <tr>\n      <th>3</th>\n      <td>MESH:D018476</td>\n      <td>DB00451</td>\n    </tr>\n    <tr>\n      <th>4</th>\n      <td>MESH:C567059</td>\n      <td>DB00641</td>\n    </tr>\n    <tr>\n      <th>...</th>\n      <td>...</td>\n      <td>...</td>\n    </tr>\n    <tr>\n      <th>466652</th>\n      <td>MESH:C565545</td>\n      <td>DB00482</td>\n    </tr>\n    <tr>\n      <th>466653</th>\n      <td>MESH:D009164</td>\n      <td>DB00977</td>\n    </tr>\n    <tr>\n      <th>466654</th>\n      <td>MESH:D010518</td>\n      <td>DB04216</td>\n    </tr>\n    <tr>\n      <th>466655</th>\n      <td>MESH:D002653</td>\n      <td>DB02701</td>\n    </tr>\n    <tr>\n      <th>466656</th>\n      <td>MESH:D013119</td>\n      <td>DB04465</td>\n    </tr>\n  </tbody>\n</table>\n<p>466657 rows × 2 columns</p>\n</div>"
     },
     "execution_count": 23,
     "metadata": {},
     "output_type": "execute_result"
    }
   ],
   "source": [
    "edges = pd.read_table('../data/DCh-Miner_miner-disease-chemical.tsv')\n",
    "edges"
   ],
   "metadata": {
    "collapsed": false,
    "ExecuteTime": {
     "start_time": "2023-05-05T16:06:14.118226Z",
     "end_time": "2023-05-05T16:06:14.213460Z"
    }
   }
  },
  {
   "cell_type": "code",
   "execution_count": 6,
   "outputs": [
    {
     "data": {
      "text/plain": "       # Disease(MESH) Chemical\ncount           466657   466657\nunique            5536     1663\ntop       MESH:D001943  DB00313\nfreq              1105     3593",
      "text/html": "<div>\n<style scoped>\n    .dataframe tbody tr th:only-of-type {\n        vertical-align: middle;\n    }\n\n    .dataframe tbody tr th {\n        vertical-align: top;\n    }\n\n    .dataframe thead th {\n        text-align: right;\n    }\n</style>\n<table border=\"1\" class=\"dataframe\">\n  <thead>\n    <tr style=\"text-align: right;\">\n      <th></th>\n      <th># Disease(MESH)</th>\n      <th>Chemical</th>\n    </tr>\n  </thead>\n  <tbody>\n    <tr>\n      <th>count</th>\n      <td>466657</td>\n      <td>466657</td>\n    </tr>\n    <tr>\n      <th>unique</th>\n      <td>5536</td>\n      <td>1663</td>\n    </tr>\n    <tr>\n      <th>top</th>\n      <td>MESH:D001943</td>\n      <td>DB00313</td>\n    </tr>\n    <tr>\n      <th>freq</th>\n      <td>1105</td>\n      <td>3593</td>\n    </tr>\n  </tbody>\n</table>\n</div>"
     },
     "execution_count": 6,
     "metadata": {},
     "output_type": "execute_result"
    }
   ],
   "source": [
    "edges.describe()"
   ],
   "metadata": {
    "collapsed": false,
    "ExecuteTime": {
     "start_time": "2023-05-05T15:05:38.290143Z",
     "end_time": "2023-05-05T15:05:38.330323Z"
    }
   }
  },
  {
   "cell_type": "code",
   "execution_count": 21,
   "outputs": [
    {
     "data": {
      "text/plain": "       # Disease(MESH) Chemical     # MESH_ID   \n0         MESH:D005923  DB00564  MESH:D005923  \\\n1         MESH:D005923  DB01956  MESH:D005923   \n2         MESH:D005923  DB02134  MESH:D005923   \n3         MESH:D005923  DB04827  MESH:D005923   \n4         MESH:D005923  DB00772  MESH:D005923   \n...                ...      ...           ...   \n457181    MESH:D000377  DB01181  MESH:D000377   \n457182    MESH:D003112  DB00393  MESH:D003112   \n457183    MESH:D046089  DB00264  MESH:D046089   \n457184    MESH:D002558  DB01200  MESH:D002558   \n457185    MESH:C537748  DB00829  MESH:C537748   \n\n                                                Name   \n0                Glomerulosclerosis, Focal Segmental  \\\n1                Glomerulosclerosis, Focal Segmental   \n2                Glomerulosclerosis, Focal Segmental   \n3                Glomerulosclerosis, Focal Segmental   \n4                Glomerulosclerosis, Focal Segmental   \n...                                              ...   \n457181                                       Agnosia   \n457182                    Colonic Pseudo-Obstruction   \n457183  Hearing Loss, Mixed Conductive-Sensorineural   \n457184                  Cerebrospinal Fluid Otorrhea   \n457185        Omphalocele exstrophy imperforate anus   \n\n                                              Definitions   \n0       A clinicopathological syndrome or diagnostic t...  \\\n1       A clinicopathological syndrome or diagnostic t...   \n2       A clinicopathological syndrome or diagnostic t...   \n3       A clinicopathological syndrome or diagnostic t...   \n4       A clinicopathological syndrome or diagnostic t...   \n...                                                   ...   \n457181  Loss of the ability to comprehend the meaning ...   \n457182  Functional obstruction of the COLON leading to...   \n457183  Hearing loss due to damage or impairment of bo...   \n457184  Discharge of cerebrospinal fluid through the e...   \n457185                                                NaN   \n\n                                                 Synonyms  \n0       Focal Glomerulosclerosis|Focal Sclerosing Glom...  \n1       Focal Glomerulosclerosis|Focal Sclerosing Glom...  \n2       Focal Glomerulosclerosis|Focal Sclerosing Glom...  \n3       Focal Glomerulosclerosis|Focal Sclerosing Glom...  \n4       Focal Glomerulosclerosis|Focal Sclerosing Glom...  \n...                                                   ...  \n457181  Agnosia, Auditory|Agnosia, Body-Image|Agnosia,...  \n457182  Colonic Pseudoobstruction|Colonic Pseudo Obstr...  \n457183  Hearing Loss, Mixed|Hearing Loss, Mixed Conduc...  \n457184  Cerebrospinal Fluid Otorrhea, Post Traumatic|C...  \n457185  OEIS complex|Omphalocele-Exstrophy-Imperforate...  \n\n[457186 rows x 6 columns]",
      "text/html": "<div>\n<style scoped>\n    .dataframe tbody tr th:only-of-type {\n        vertical-align: middle;\n    }\n\n    .dataframe tbody tr th {\n        vertical-align: top;\n    }\n\n    .dataframe thead th {\n        text-align: right;\n    }\n</style>\n<table border=\"1\" class=\"dataframe\">\n  <thead>\n    <tr style=\"text-align: right;\">\n      <th></th>\n      <th># Disease(MESH)</th>\n      <th>Chemical</th>\n      <th># MESH_ID</th>\n      <th>Name</th>\n      <th>Definitions</th>\n      <th>Synonyms</th>\n    </tr>\n  </thead>\n  <tbody>\n    <tr>\n      <th>0</th>\n      <td>MESH:D005923</td>\n      <td>DB00564</td>\n      <td>MESH:D005923</td>\n      <td>Glomerulosclerosis, Focal Segmental</td>\n      <td>A clinicopathological syndrome or diagnostic t...</td>\n      <td>Focal Glomerulosclerosis|Focal Sclerosing Glom...</td>\n    </tr>\n    <tr>\n      <th>1</th>\n      <td>MESH:D005923</td>\n      <td>DB01956</td>\n      <td>MESH:D005923</td>\n      <td>Glomerulosclerosis, Focal Segmental</td>\n      <td>A clinicopathological syndrome or diagnostic t...</td>\n      <td>Focal Glomerulosclerosis|Focal Sclerosing Glom...</td>\n    </tr>\n    <tr>\n      <th>2</th>\n      <td>MESH:D005923</td>\n      <td>DB02134</td>\n      <td>MESH:D005923</td>\n      <td>Glomerulosclerosis, Focal Segmental</td>\n      <td>A clinicopathological syndrome or diagnostic t...</td>\n      <td>Focal Glomerulosclerosis|Focal Sclerosing Glom...</td>\n    </tr>\n    <tr>\n      <th>3</th>\n      <td>MESH:D005923</td>\n      <td>DB04827</td>\n      <td>MESH:D005923</td>\n      <td>Glomerulosclerosis, Focal Segmental</td>\n      <td>A clinicopathological syndrome or diagnostic t...</td>\n      <td>Focal Glomerulosclerosis|Focal Sclerosing Glom...</td>\n    </tr>\n    <tr>\n      <th>4</th>\n      <td>MESH:D005923</td>\n      <td>DB00772</td>\n      <td>MESH:D005923</td>\n      <td>Glomerulosclerosis, Focal Segmental</td>\n      <td>A clinicopathological syndrome or diagnostic t...</td>\n      <td>Focal Glomerulosclerosis|Focal Sclerosing Glom...</td>\n    </tr>\n    <tr>\n      <th>...</th>\n      <td>...</td>\n      <td>...</td>\n      <td>...</td>\n      <td>...</td>\n      <td>...</td>\n      <td>...</td>\n    </tr>\n    <tr>\n      <th>457181</th>\n      <td>MESH:D000377</td>\n      <td>DB01181</td>\n      <td>MESH:D000377</td>\n      <td>Agnosia</td>\n      <td>Loss of the ability to comprehend the meaning ...</td>\n      <td>Agnosia, Auditory|Agnosia, Body-Image|Agnosia,...</td>\n    </tr>\n    <tr>\n      <th>457182</th>\n      <td>MESH:D003112</td>\n      <td>DB00393</td>\n      <td>MESH:D003112</td>\n      <td>Colonic Pseudo-Obstruction</td>\n      <td>Functional obstruction of the COLON leading to...</td>\n      <td>Colonic Pseudoobstruction|Colonic Pseudo Obstr...</td>\n    </tr>\n    <tr>\n      <th>457183</th>\n      <td>MESH:D046089</td>\n      <td>DB00264</td>\n      <td>MESH:D046089</td>\n      <td>Hearing Loss, Mixed Conductive-Sensorineural</td>\n      <td>Hearing loss due to damage or impairment of bo...</td>\n      <td>Hearing Loss, Mixed|Hearing Loss, Mixed Conduc...</td>\n    </tr>\n    <tr>\n      <th>457184</th>\n      <td>MESH:D002558</td>\n      <td>DB01200</td>\n      <td>MESH:D002558</td>\n      <td>Cerebrospinal Fluid Otorrhea</td>\n      <td>Discharge of cerebrospinal fluid through the e...</td>\n      <td>Cerebrospinal Fluid Otorrhea, Post Traumatic|C...</td>\n    </tr>\n    <tr>\n      <th>457185</th>\n      <td>MESH:C537748</td>\n      <td>DB00829</td>\n      <td>MESH:C537748</td>\n      <td>Omphalocele exstrophy imperforate anus</td>\n      <td>NaN</td>\n      <td>OEIS complex|Omphalocele-Exstrophy-Imperforate...</td>\n    </tr>\n  </tbody>\n</table>\n<p>457186 rows × 6 columns</p>\n</div>"
     },
     "execution_count": 21,
     "metadata": {},
     "output_type": "execute_result"
    }
   ],
   "source": [
    "all = edges.merge(disease, left_on='# Disease(MESH)', right_on='# MESH_ID', how='inner')\n",
    "all"
   ],
   "metadata": {
    "collapsed": false,
    "ExecuteTime": {
     "start_time": "2023-05-05T15:17:24.116258Z",
     "end_time": "2023-05-05T15:17:24.219440Z"
    }
   }
  },
  {
   "cell_type": "code",
   "execution_count": 47,
   "outputs": [
    {
     "data": {
      "text/plain": "tensor([0., 0., 0., 0., 0., 0., 0., 0., 0., 0., 0., 0., 0., 0., 0., 0., 0., 0., 0., 0., 0., 0., 0., 0.,\n        0., 0., 0., 0., 0., 0., 0., 0., 0., 0., 0., 0., 0., 0., 0., 0., 0., 0., 0., 0., 0., 0., 0., 0.,\n        0., 0., 0., 0., 0., 0., 0., 0., 0., 0., 0., 0., 0., 0., 0., 0., 0., 0., 0., 0., 0., 0., 0., 0.,\n        0., 0., 0., 0., 0., 0., 0., 0., 0., 0., 0., 0., 0., 0., 0., 0., 0., 0., 0., 0., 0., 0., 0., 0.,\n        0., 0., 0., 0., 0., 0., 0., 0., 0., 0., 0., 0., 0., 0., 0., 0., 0., 0., 0., 0., 0., 0., 0., 0.,\n        0., 0., 0., 0., 0., 0., 0., 0., 0., 0., 0., 0., 0., 0., 0., 0., 0., 0., 0., 0., 0., 0., 0., 0.,\n        0., 0., 0., 0., 0., 0., 0., 0., 0., 0., 0., 0., 0., 0., 0., 0., 0., 0., 0., 0., 0., 0., 0., 0.,\n        0., 0., 0., 0., 0., 0., 0., 0., 0., 0., 0., 0., 0., 0., 0., 0., 0., 0., 0., 0., 0., 0., 0., 0.,\n        0., 0., 0., 0., 0., 0., 0., 0.])"
     },
     "execution_count": 47,
     "metadata": {},
     "output_type": "execute_result"
    }
   ],
   "source": [],
   "metadata": {
    "collapsed": false,
    "ExecuteTime": {
     "start_time": "2023-05-05T15:41:10.192000Z",
     "end_time": "2023-05-05T15:41:10.561119Z"
    }
   }
  },
  {
   "cell_type": "code",
   "execution_count": 15,
   "outputs": [
    {
     "data": {
      "text/plain": "# MESH_ID\nMESH:C538288             NaN\nMESH:C535484             NaN\nMESH:C579849             NaN\nMESH:C579850             NaN\nMESH:C567076             NaN\n                    ...     \nMESH:C536729             NaN\nMESH:C536730             NaN\nMESH:C565223             NaN\nMESH:D015051                \nMESH:D020096    MUCORMYCOSIS\nName: Definitions, Length: 11332, dtype: object"
     },
     "execution_count": 15,
     "metadata": {},
     "output_type": "execute_result"
    }
   ],
   "source": [
    "defs = disease.set_index('# MESH_ID')['Definitions'].str.findall(r'\\b[A-Z]{2,}\\b').str.join(',')\n",
    "defs"
   ],
   "metadata": {
    "collapsed": false,
    "ExecuteTime": {
     "start_time": "2023-05-05T15:56:39.641316Z",
     "end_time": "2023-05-05T15:56:39.680932Z"
    }
   }
  },
  {
   "cell_type": "code",
   "execution_count": 18,
   "outputs": [],
   "source": [
    "disease_motifs_new = defs.str.get_dummies(sep=',')"
   ],
   "metadata": {
    "collapsed": false,
    "ExecuteTime": {
     "start_time": "2023-05-05T15:58:20.743111Z",
     "end_time": "2023-05-05T15:58:29.224859Z"
    }
   }
  },
  {
   "cell_type": "code",
   "execution_count": 19,
   "outputs": [
    {
     "data": {
      "text/plain": "Index        354888\nAB            90656\nABDOMEN       90656\nABDOMINAL     90656\nABDUCENS      90656\n              ...  \nZELLWEGER     90656\nZIKA          90656\nZOLLINGER     90656\nZOONOSES      90656\nZOSTER        90656\nLength: 3699, dtype: int64"
     },
     "execution_count": 19,
     "metadata": {},
     "output_type": "execute_result"
    }
   ],
   "source": [
    "disease_features = disease_motifs_new"
   ],
   "metadata": {
    "collapsed": false,
    "ExecuteTime": {
     "start_time": "2023-05-05T15:58:29.215254Z",
     "end_time": "2023-05-05T15:58:29.381309Z"
    }
   }
  },
  {
   "cell_type": "code",
   "execution_count": 21,
   "outputs": [
    {
     "data": {
      "text/plain": "array(['MESH:C538288', 'MESH:C535484', 'MESH:C579849', ...,\n       'MESH:C565223', 'MESH:D015051', 'MESH:D020096'], dtype=object)"
     },
     "execution_count": 21,
     "metadata": {},
     "output_type": "execute_result"
    }
   ],
   "source": [
    "disease_ids"
   ],
   "metadata": {
    "collapsed": false,
    "ExecuteTime": {
     "start_time": "2023-05-05T16:02:41.945117Z",
     "end_time": "2023-05-05T16:02:41.950162Z"
    }
   }
  },
  {
   "cell_type": "code",
   "execution_count": 25,
   "outputs": [
    {
     "data": {
      "text/plain": "array(['DB00564', 'DB01072', 'DB01759', ..., 'DB00416', 'DB01306',\n       'DB02054'], dtype=object)"
     },
     "execution_count": 25,
     "metadata": {},
     "output_type": "execute_result"
    }
   ],
   "source": [
    "drug_ids = edges['Chemical'].unique()\n",
    "drug_ids"
   ],
   "metadata": {
    "collapsed": false,
    "ExecuteTime": {
     "start_time": "2023-05-05T16:06:22.787944Z",
     "end_time": "2023-05-05T16:06:22.796766Z"
    }
   }
  }
 ],
 "metadata": {
  "kernelspec": {
   "display_name": "Python 3",
   "language": "python",
   "name": "python3"
  },
  "language_info": {
   "codemirror_mode": {
    "name": "ipython",
    "version": 2
   },
   "file_extension": ".py",
   "mimetype": "text/x-python",
   "name": "python",
   "nbconvert_exporter": "python",
   "pygments_lexer": "ipython2",
   "version": "2.7.6"
  }
 },
 "nbformat": 4,
 "nbformat_minor": 0
}
