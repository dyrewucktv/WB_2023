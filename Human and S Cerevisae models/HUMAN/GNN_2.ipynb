{
 "cells": [
  {
   "attachments": {},
   "cell_type": "markdown",
   "metadata": {},
   "source": [
    "# GNN project - node classifiaction"
   ]
  },
  {
   "attachments": {},
   "cell_type": "markdown",
   "metadata": {},
   "source": [
    "## EDA"
   ]
  },
  {
   "cell_type": "code",
   "execution_count": 1,
   "metadata": {},
   "outputs": [],
   "source": [
    "%matplotlib inline\n",
    "import pandas as pd\n",
    "import numpy as np\n",
    "import networkx as nx\n",
    "import matplotlib.pyplot as plt\n",
    "from random import randint\n",
    "import scipy.sparse as sp\n",
    "from tensorflow.keras import layers\n",
    "import tensorflow as tf\n"
   ]
  },
  {
   "cell_type": "code",
   "execution_count": 2,
   "metadata": {},
   "outputs": [],
   "source": [
    "data  = pd.read_csv('G-HumanEssential.tsv', sep='\\t')\n",
    "data = data.rename(columns={\n",
    "    'Essentiality (determined from multiple datasets)': 'Essentiality'\n",
    "    })"
   ]
  },
  {
   "cell_type": "code",
   "execution_count": 3,
   "metadata": {},
   "outputs": [
    {
     "data": {
      "text/html": [
       "<div>\n",
       "<style scoped>\n",
       "    .dataframe tbody tr th:only-of-type {\n",
       "        vertical-align: middle;\n",
       "    }\n",
       "\n",
       "    .dataframe tbody tr th {\n",
       "        vertical-align: top;\n",
       "    }\n",
       "\n",
       "    .dataframe thead th {\n",
       "        text-align: right;\n",
       "    }\n",
       "</style>\n",
       "<table border=\"1\" class=\"dataframe\">\n",
       "  <thead>\n",
       "    <tr style=\"text-align: right;\">\n",
       "      <th></th>\n",
       "      <th>Gene ID</th>\n",
       "      <th>Essentiality</th>\n",
       "      <th>Data Source</th>\n",
       "    </tr>\n",
       "  </thead>\n",
       "  <tbody>\n",
       "    <tr>\n",
       "      <th>0</th>\n",
       "      <td>122809</td>\n",
       "      <td>Non-essential</td>\n",
       "      <td>PMID:26472758,PMID:26472760,PMID:18239125</td>\n",
       "    </tr>\n",
       "    <tr>\n",
       "      <th>1</th>\n",
       "      <td>64359</td>\n",
       "      <td>Non-essential</td>\n",
       "      <td>PMID:26472758,PMID:26472760,PMID:18239125</td>\n",
       "    </tr>\n",
       "    <tr>\n",
       "      <th>2</th>\n",
       "      <td>11218</td>\n",
       "      <td>Essential</td>\n",
       "      <td>PMID:26472758,PMID:26472760,PMID:18239125,PMID...</td>\n",
       "    </tr>\n",
       "    <tr>\n",
       "      <th>3</th>\n",
       "      <td>401236</td>\n",
       "      <td>Non-essential</td>\n",
       "      <td>PMID:26472758</td>\n",
       "    </tr>\n",
       "    <tr>\n",
       "      <th>4</th>\n",
       "      <td>27115</td>\n",
       "      <td>Non-essential</td>\n",
       "      <td>PMID:26472758,PMID:26472760,PMID:18239125</td>\n",
       "    </tr>\n",
       "    <tr>\n",
       "      <th>...</th>\n",
       "      <td>...</td>\n",
       "      <td>...</td>\n",
       "      <td>...</td>\n",
       "    </tr>\n",
       "    <tr>\n",
       "      <th>18523</th>\n",
       "      <td>10647</td>\n",
       "      <td>Non-essential</td>\n",
       "      <td>PMID:26472758,PMID:26472760,PMID:18239125</td>\n",
       "    </tr>\n",
       "    <tr>\n",
       "      <th>18524</th>\n",
       "      <td>84937</td>\n",
       "      <td>Non-essential</td>\n",
       "      <td>PMID:26472758,PMID:26472760,PMID:19490893,PMID...</td>\n",
       "    </tr>\n",
       "    <tr>\n",
       "      <th>18525</th>\n",
       "      <td>4246</td>\n",
       "      <td>Non-essential</td>\n",
       "      <td>PMID:26472758,PMID:26472760,PMID:18239125</td>\n",
       "    </tr>\n",
       "    <tr>\n",
       "      <th>18526</th>\n",
       "      <td>51082</td>\n",
       "      <td>Non-essential</td>\n",
       "      <td>PMID:26472758,PMID:26472760,PMID:18239125,PMID...</td>\n",
       "    </tr>\n",
       "    <tr>\n",
       "      <th>18527</th>\n",
       "      <td>386607</td>\n",
       "      <td>Non-essential</td>\n",
       "      <td>PMID:18239125</td>\n",
       "    </tr>\n",
       "  </tbody>\n",
       "</table>\n",
       "<p>18528 rows × 3 columns</p>\n",
       "</div>"
      ],
      "text/plain": [
       "       Gene ID   Essentiality  \\\n",
       "0       122809  Non-essential   \n",
       "1        64359  Non-essential   \n",
       "2        11218      Essential   \n",
       "3       401236  Non-essential   \n",
       "4        27115  Non-essential   \n",
       "...        ...            ...   \n",
       "18523    10647  Non-essential   \n",
       "18524    84937  Non-essential   \n",
       "18525     4246  Non-essential   \n",
       "18526    51082  Non-essential   \n",
       "18527   386607  Non-essential   \n",
       "\n",
       "                                             Data Source  \n",
       "0              PMID:26472758,PMID:26472760,PMID:18239125  \n",
       "1              PMID:26472758,PMID:26472760,PMID:18239125  \n",
       "2      PMID:26472758,PMID:26472760,PMID:18239125,PMID...  \n",
       "3                                          PMID:26472758  \n",
       "4              PMID:26472758,PMID:26472760,PMID:18239125  \n",
       "...                                                  ...  \n",
       "18523          PMID:26472758,PMID:26472760,PMID:18239125  \n",
       "18524  PMID:26472758,PMID:26472760,PMID:19490893,PMID...  \n",
       "18525          PMID:26472758,PMID:26472760,PMID:18239125  \n",
       "18526  PMID:26472758,PMID:26472760,PMID:18239125,PMID...  \n",
       "18527                                      PMID:18239125  \n",
       "\n",
       "[18528 rows x 3 columns]"
      ]
     },
     "execution_count": 3,
     "metadata": {},
     "output_type": "execute_result"
    }
   ],
   "source": [
    "data"
   ]
  },
  {
   "cell_type": "code",
   "execution_count": 5,
   "metadata": {},
   "outputs": [
    {
     "name": "stdout",
     "output_type": "stream",
     "text": [
      "(18528, 3)\n"
     ]
    }
   ],
   "source": [
    "print(data.shape)"
   ]
  },
  {
   "cell_type": "code",
   "execution_count": 7,
   "metadata": {},
   "outputs": [
    {
     "name": "stdout",
     "output_type": "stream",
     "text": [
      "Number of different genes: 18528\n"
     ]
    }
   ],
   "source": [
    "# Extract unique values from the 'Gene ID' column\n",
    "print(\"Number of different genes:\", len(data['Gene ID'].unique()))"
   ]
  },
  {
   "cell_type": "code",
   "execution_count": 8,
   "metadata": {},
   "outputs": [
    {
     "name": "stdout",
     "output_type": "stream",
     "text": [
      "Essentiality values:\n",
      "Non-essential\tEssential\n"
     ]
    }
   ],
   "source": [
    "# Extract unique values from the 'Gene ID' column\n",
    "unique_ess = data['Essentiality'].unique()\n",
    "print(\"Essentiality values:\")\n",
    "print(*unique_ess, sep=\"\\t\")\n"
   ]
  },
  {
   "attachments": {},
   "cell_type": "markdown",
   "metadata": {},
   "source": [
    "## Creating a graph"
   ]
  },
  {
   "cell_type": "code",
   "execution_count": 26,
   "metadata": {},
   "outputs": [],
   "source": [
    "# Create an empty graph\n",
    "graph = nx.Graph()\n",
    "\n",
    "# Add nodes to the graph\n",
    "for index, row in data.iterrows():\n",
    "    gene_id = row['Gene ID']\n",
    "    essentiality = row['Essentiality']\n",
    "    graph.add_node(gene_id, essentiality=essentiality)\n",
    "\n",
    "# Add edges to the graph\n",
    "for index, row in data.iterrows():\n",
    "    gene_id = row['Gene ID']\n",
    "    data_sources = row['Data Source'].split(',')\n",
    "    for source in data_sources:\n",
    "        graph.add_edge(gene_id, source)"
   ]
  },
  {
   "cell_type": "code",
   "execution_count": 39,
   "metadata": {},
   "outputs": [
    {
     "name": "stdout",
     "output_type": "stream",
     "text": [
      "[[0 1 1]\n",
      " [1 0 1]\n",
      " [1 1 0]]\n"
     ]
    }
   ],
   "source": [
    "# Create a NetworkX graph\n",
    "graph = nx.Graph()\n",
    "\n",
    "# Add nodes and edges to the graph\n",
    "graph.add_edges_from([(1, 2), (2, 3), (3, 1)])\n",
    "\n",
    "# Assign 'Essentiality' attribute to the nodes (example)\n",
    "# nx.set_node_attributes(graph, {1: 'Essential', 2: 'Non-essential', 3: 'Essential'}, name='Essentiality')\n",
    "nx.set_node_attributes(graph, {1: 'Essential', 2: 'Non-essential'}, name='Essentiality')\n",
    "\n",
    "# Convert the graph to a SciPy sparse matrix\n",
    "adjacency = nx.adjacency_matrix(graph)\n",
    "adjacency = adjacency.toarray()\n",
    "\n",
    "print(adjacency)\n"
   ]
  },
  {
   "cell_type": "code",
   "execution_count": 40,
   "metadata": {},
   "outputs": [],
   "source": [
    "# Define the TensorFlow model\n",
    "model = tf.keras.Sequential()\n",
    "model.add(layers.Dense(64, activation='relu', input_shape=(adjacency.shape[0],)))\n",
    "model.add(layers.Dense(64, activation='relu'))\n",
    "model.add(layers.Dense(1, activation='sigmoid'))"
   ]
  },
  {
   "cell_type": "code",
   "execution_count": 41,
   "metadata": {},
   "outputs": [
    {
     "name": "stdout",
     "output_type": "stream",
     "text": [
      "Epoch 1/10\n",
      "1/1 [==============================] - 1s 641ms/step - loss: 0.6877 - accuracy: 0.5000 - val_loss: 0.6532 - val_accuracy: 1.0000\n",
      "Epoch 2/10\n",
      "1/1 [==============================] - 0s 28ms/step - loss: 0.6743 - accuracy: 0.5000 - val_loss: 0.6549 - val_accuracy: 1.0000\n",
      "Epoch 3/10\n",
      "1/1 [==============================] - 0s 25ms/step - loss: 0.6611 - accuracy: 1.0000 - val_loss: 0.6565 - val_accuracy: 1.0000\n",
      "Epoch 4/10\n",
      "1/1 [==============================] - 0s 27ms/step - loss: 0.6480 - accuracy: 1.0000 - val_loss: 0.6583 - val_accuracy: 1.0000\n",
      "Epoch 5/10\n",
      "1/1 [==============================] - 0s 25ms/step - loss: 0.6354 - accuracy: 1.0000 - val_loss: 0.6604 - val_accuracy: 1.0000\n",
      "Epoch 6/10\n",
      "1/1 [==============================] - 0s 25ms/step - loss: 0.6239 - accuracy: 1.0000 - val_loss: 0.6629 - val_accuracy: 1.0000\n",
      "Epoch 7/10\n",
      "1/1 [==============================] - 0s 27ms/step - loss: 0.6125 - accuracy: 1.0000 - val_loss: 0.6656 - val_accuracy: 1.0000\n",
      "Epoch 8/10\n",
      "1/1 [==============================] - 0s 28ms/step - loss: 0.6013 - accuracy: 1.0000 - val_loss: 0.6684 - val_accuracy: 1.0000\n",
      "Epoch 9/10\n",
      "1/1 [==============================] - 0s 30ms/step - loss: 0.5903 - accuracy: 1.0000 - val_loss: 0.6714 - val_accuracy: 1.0000\n",
      "Epoch 10/10\n",
      "1/1 [==============================] - 0s 25ms/step - loss: 0.5793 - accuracy: 1.0000 - val_loss: 0.6734 - val_accuracy: 1.0000\n"
     ]
    },
    {
     "data": {
      "text/plain": [
       "<keras.callbacks.History at 0x21405560e80>"
      ]
     },
     "execution_count": 41,
     "metadata": {},
     "output_type": "execute_result"
    }
   ],
   "source": [
    "# Compile the model\n",
    "model.compile(optimizer='adam', loss='binary_crossentropy', metrics=['accuracy'])\n",
    "\n",
    "# Prepare the labels for training\n",
    "labels = np.array([1 if graph.nodes[n]['Essentiality'] == 'Essential' else 0 for n in graph.nodes])\n",
    "\n",
    "# Split the data and labels into training and validation sets\n",
    "split_index = int(0.8 * len(adjacency))\n",
    "adjacency_train, adjacency_val = adjacency[:split_index], adjacency[split_index:]\n",
    "labels_train, labels_val = labels[:split_index], labels[split_index:]\n",
    "\n",
    "# Train the model\n",
    "model.fit(adjacency_train, labels_train, epochs=10, validation_data=(adjacency_val, labels_val))\n"
   ]
  },
  {
   "cell_type": "code",
   "execution_count": null,
   "metadata": {},
   "outputs": [],
   "source": []
  },
  {
   "cell_type": "code",
   "execution_count": null,
   "metadata": {},
   "outputs": [],
   "source": []
  },
  {
   "cell_type": "code",
   "execution_count": null,
   "metadata": {},
   "outputs": [],
   "source": []
  },
  {
   "cell_type": "code",
   "execution_count": null,
   "metadata": {},
   "outputs": [],
   "source": []
  },
  {
   "cell_type": "code",
   "execution_count": null,
   "metadata": {},
   "outputs": [],
   "source": []
  },
  {
   "cell_type": "code",
   "execution_count": null,
   "metadata": {},
   "outputs": [],
   "source": []
  }
 ],
 "metadata": {
  "kernelspec": {
   "display_name": "base",
   "language": "python",
   "name": "python3"
  },
  "language_info": {
   "codemirror_mode": {
    "name": "ipython",
    "version": 3
   },
   "file_extension": ".py",
   "mimetype": "text/x-python",
   "name": "python",
   "nbconvert_exporter": "python",
   "pygments_lexer": "ipython3",
   "version": "3.9.16"
  },
  "orig_nbformat": 4
 },
 "nbformat": 4,
 "nbformat_minor": 2
}
